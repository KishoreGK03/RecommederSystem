{
 "cells": [
  {
   "cell_type": "code",
   "execution_count": 1,
   "id": "a7358698",
   "metadata": {},
   "outputs": [],
   "source": [
    "import pandas as pd\n",
    "import numpy as np\n",
    "import matplotlib.pyplot as plt\n",
    "import seaborn as sns\n",
    "import random"
   ]
  },
  {
   "cell_type": "code",
   "execution_count": 2,
   "id": "4634a943",
   "metadata": {},
   "outputs": [],
   "source": [
    "col_name=['User_Id','item_id','Rating','TimeStamp']"
   ]
  },
  {
   "cell_type": "code",
   "execution_count": 3,
   "id": "029db757",
   "metadata": {},
   "outputs": [],
   "source": [
    "data=pd.read_csv('u.data',names=col_name,sep='\\t')"
   ]
  },
  {
   "cell_type": "code",
   "execution_count": 4,
   "id": "e5d2ef4b",
   "metadata": {},
   "outputs": [],
   "source": [
    "movie_names=pd.read_csv('Movie_Id_Titles')"
   ]
  },
  {
   "cell_type": "code",
   "execution_count": 5,
   "id": "9b764a8d",
   "metadata": {},
   "outputs": [],
   "source": [
    "data=pd.merge(data,movie_names,on='item_id')"
   ]
  },
  {
   "cell_type": "code",
   "execution_count": 6,
   "id": "c34b7266",
   "metadata": {},
   "outputs": [],
   "source": [
    "ratings=pd.DataFrame(data=data.groupby('title')['Rating'].count())"
   ]
  },
  {
   "cell_type": "code",
   "execution_count": 7,
   "id": "bda5f917",
   "metadata": {},
   "outputs": [],
   "source": [
    "ratings['mean_rating']=data.groupby('title')['Rating'].mean()"
   ]
  },
  {
   "cell_type": "code",
   "execution_count": 8,
   "id": "ea46012b",
   "metadata": {},
   "outputs": [],
   "source": [
    "movie_table = data.pivot_table(index='User_Id',columns='title',values='Rating')"
   ]
  },
  {
   "cell_type": "code",
   "execution_count": 9,
   "id": "657f656f",
   "metadata": {},
   "outputs": [
    {
     "name": "stdout",
     "output_type": "stream",
     "text": [
      "Please Enter the movie that you recently watched : Star Wars\n"
     ]
    }
   ],
   "source": [
    "movie_watched=input(\"Please Enter the movie that you recently watched : \")"
   ]
  },
  {
   "cell_type": "code",
   "execution_count": 10,
   "id": "f58b2262",
   "metadata": {},
   "outputs": [],
   "source": [
    "user_rating=movie_table.loc[:,movie_table.columns.str.startswith(movie_watched)]"
   ]
  },
  {
   "cell_type": "code",
   "execution_count": 11,
   "id": "eb60be70",
   "metadata": {},
   "outputs": [],
   "source": [
    "user_rating=user_rating.squeeze()"
   ]
  },
  {
   "cell_type": "code",
   "execution_count": 12,
   "id": "b70bbd3f",
   "metadata": {},
   "outputs": [
    {
     "name": "stderr",
     "output_type": "stream",
     "text": [
      "C:\\Users\\Kishore G K\\AppData\\Roaming\\Python\\Python310\\site-packages\\numpy\\lib\\function_base.py:2683: RuntimeWarning: Degrees of freedom <= 0 for slice\n",
      "  c = cov(x, y, rowvar, dtype=dtype)\n",
      "C:\\Users\\Kishore G K\\AppData\\Roaming\\Python\\Python310\\site-packages\\numpy\\lib\\function_base.py:2542: RuntimeWarning: divide by zero encountered in true_divide\n",
      "  c *= np.true_divide(1, fact)\n"
     ]
    }
   ],
   "source": [
    "similar_to = movie_table.corrwith(user_rating)"
   ]
  },
  {
   "cell_type": "code",
   "execution_count": 13,
   "id": "0922723d",
   "metadata": {},
   "outputs": [],
   "source": [
    "corr_movie = pd.DataFrame(similar_to,columns=['Correlation'])\n",
    "corr_movie.dropna(inplace=True)"
   ]
  },
  {
   "cell_type": "code",
   "execution_count": 14,
   "id": "4cf0d705",
   "metadata": {},
   "outputs": [],
   "source": [
    "corr_movie = corr_movie.join(ratings['Rating'])"
   ]
  },
  {
   "cell_type": "code",
   "execution_count": 15,
   "id": "9a7eb670",
   "metadata": {},
   "outputs": [],
   "source": [
    "thresh=random.randint(50,100)"
   ]
  },
  {
   "cell_type": "code",
   "execution_count": 16,
   "id": "2b08e527",
   "metadata": {},
   "outputs": [],
   "source": [
    "corr_movie=corr_movie[corr_movie['Rating']>thresh].sort_values('Correlation',ascending=False)"
   ]
  },
  {
   "cell_type": "code",
   "execution_count": 17,
   "id": "f8c557b8",
   "metadata": {},
   "outputs": [],
   "source": [
    "recommended_movie=corr_movie.index[1]"
   ]
  },
  {
   "cell_type": "code",
   "execution_count": 18,
   "id": "cf1ad110",
   "metadata": {},
   "outputs": [
    {
     "name": "stdout",
     "output_type": "stream",
     "text": [
      "The next movie we recommend you to watch is :  Empire Strikes Back, The (1980)\n"
     ]
    }
   ],
   "source": [
    "if(recommended_movie=='NaN'):\n",
    "    print(\"End of the list!!\")\n",
    "else:\n",
    "    print(\"The next movie we recommend you to watch is : \",recommended_movie)"
   ]
  }
 ],
 "metadata": {
  "kernelspec": {
   "display_name": "Python 3 (ipykernel)",
   "language": "python",
   "name": "python3"
  },
  "language_info": {
   "codemirror_mode": {
    "name": "ipython",
    "version": 3
   },
   "file_extension": ".py",
   "mimetype": "text/x-python",
   "name": "python",
   "nbconvert_exporter": "python",
   "pygments_lexer": "ipython3",
   "version": "3.10.4"
  }
 },
 "nbformat": 4,
 "nbformat_minor": 5
}
